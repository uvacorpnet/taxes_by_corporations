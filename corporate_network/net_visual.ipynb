{
 "cells": [
  {
   "cell_type": "code",
   "execution_count": 1,
   "metadata": {},
   "outputs": [
    {
     "name": "stderr",
     "output_type": "stream",
     "text": [
      "/opt/anaconda/anaconda3/lib/python3.5/site-packages/graph_tool/draw/cairo_draw.py:1480: RuntimeWarning: Error importing Gtk module: No module named 'gi'; GTK+ drawing will not work.\n",
      "  warnings.warn(msg, RuntimeWarning)\n"
     ]
    }
   ],
   "source": [
    "import pandas as pd\n",
    "import numpy as np\n",
    "import pylab as plt\n",
    "from graph_tool.all import *\n",
    "import unicodedata\n",
    "%matplotlib inline"
   ]
  },
  {
   "cell_type": "code",
   "execution_count": null,
   "metadata": {},
   "outputs": [],
   "source": [
    "# #Get info from orbis\n",
    "# info = [0, 17, 33, 43, 48, 57, 68, 69, 76, 78, 82, 91, 92, 93, 94]\n",
    "# with open(\"Orbis_Export_1.csv\") as f,open(\"nike_ownership.csv\",\"w+\") as fout:\n",
    "#     flag= 0\n",
    "#     for i,line in enumerate(f):\n",
    "#         if \"CONVERSE (ASIA PACIFIC) LTD\" in line:\n",
    "#             flag = 1\n",
    "#         else:\n",
    "#             pass\n",
    "            \n",
    "#         if (flag == 1) and (i < 20166):\n",
    "#             print(unicodedata.normalize(\"NFKD\", \"\\t\".join(np.array(inf)[info])).split(\"\\t\"))            \n",
    "            \n",
    "#         if (flag == 1):\n",
    "#             inf = line.split(\"\\t\")\n",
    "#             #cols = [i for i,_ in enumerate(line.split(\"\\t\")) if len(_) > 0]\n",
    "#             new_str = unicodedata.normalize(\"NFKD\", \"\\t\".join(np.array(inf)[info]))\n",
    "#             fout.write(new_str)\n",
    "\n",
    "\n",
    "df = pd.read_csv(\"./nike/nike_ownership.csv\",sep=\"\\t\",header=None,na_values=[\"n.a.\",\"-\"],\n",
    "             converters={9: lambda x: str(x)},names=[\"Index\",\"Subsidiary\",\"Country\",\"Direct\",\"Total\",\"Revenue\",\"Employees\",\"City\",\"TypeEntity\",\"NACE1\",\"NACE_description\",\"Assets\",\"BvD\",\"PL\",\"Level_ownership\"],skip_footer=3,thousands=\",\")\n",
    "df[\"Direct\"] = df[\"Direct\"].replace(d_own)\n",
    "df[\"Total\"] = df[\"Total\"].replace(d_own)\n",
    "df = df.dropna(subset=[\"Index\"])\n",
    "df"
   ]
  },
  {
   "cell_type": "code",
   "execution_count": 39,
   "metadata": {},
   "outputs": [],
   "source": [
    "def process_company(filename):\n",
    "    d_own = {'>50.00': 50.01, 'MO': 50.01, 'WO':99}\n",
    "    df = pd.read_excel(filename,sheetname=1,na_values=[\"n.a.\",\"-\",\"Credit needed\"],thousands=\",\")\n",
    "    company = df[\"Company name\"].values[0]\n",
    "    df[\"Direct\"] = df[\"Direct (%)\"].replace(d_own)\n",
    "    df[\"Total\"] = df[\"Total (%)\"].replace(d_own)\n",
    "    df[\"Level\"] = df[\"Level\"].str.strip()\n",
    "\n",
    "    d_index2bvd = dict(zip(df[\"Level\"],df[\"Subsidiary BvD ID\"]))\n",
    "    d_index2bvd[\"0\"] = company\n",
    "\n",
    "    df[\"shareholder\"] = df[\"Level\"].apply(lambda x: x[:1+x[:-1].rfind(\".\")] if x[:-2].rfind(\".\") != -1 else \"0\")\n",
    "    df[\"shareholder\"] = df[\"shareholder\"].apply(lambda x: d_index2bvd[x])\n",
    "    df[\"Direct\"] = df[\"Direct\"].astype(float)\n",
    "    df[\"Total\"] = df[\"Total\"].astype(float)\n",
    "\n",
    "    edges = df[[\"Subsidiary BvD ID\",\"shareholder\",\"Direct\",\"Total\"]]\n",
    "    edges[\"Type\"] = \"Directed\"\n",
    "    edges.columns = [\"Target\",\"Source\",\"Weight\",\"Total\",\"Type\"]\n",
    "\n",
    "\n",
    "    edges[\"max\"] = edges[[\"Weight\",\"Total\"]].max(1)\n",
    "    edges = edges.replace(np.NaN,0)\n",
    "    t = []\n",
    "    for target,data in edges.groupby(\"Target\"):\n",
    "        if data[\"Weight\"].sum() == 100:\n",
    "            pass\n",
    "        elif data[\"Weight\"].sum() > 100:\n",
    "            data[\"Weight\"] = 100*data[\"Weight\"]/np.sum(data[\"Weight\"])\n",
    "        else:\n",
    "            data[\"Weight\"] = data[\"Weight\"] + data[\"max\"]\n",
    "            data[\"Weight\"] = 100*data[\"Weight\"]/np.sum(data[\"Weight\"])\n",
    "        t.append(data)\n",
    "    edges = pd.concat(t)\n",
    "    edges.sort_values(by=\"Weight\",ascending=False)    \n",
    "\n",
    "    nodes = df[[\"Subsidiary BvD ID\",\"Subsidiary name\",\"Country ISO code\",\"Op.\\nRevenue{0}*\",\"No of\\nemployees\",\"Total\\nAssets\",\"P/L before tax\",\"P/L for period\"]]\n",
    "    nodes.columns = [\"Id\",\"Label\",\"Country\",\"turnover\",\"employees\",\"assets\",\"profit_before_tax\",\"profit_after_tax\"]\n",
    "    nodes[\"profit_before_tax\"] = nodes[\"profit_before_tax\"].astype(float)\n",
    "    nodes[\"profit_after_tax\"] = nodes[\"profit_after_tax\"].astype(float)\n",
    "\n",
    "    edges.to_csv(\"./PietNikki/{}_edges.csv\".format(company),sep=\"\\t\",index=False)\n",
    "    nodes.drop_duplicates().to_csv(\"./PietNikki/{}_nodes.csv\".format(company),sep=\"\\t\",index=False)"
   ]
  },
  {
   "cell_type": "code",
   "execution_count": 41,
   "metadata": {},
   "outputs": [
    {
     "name": "stdout",
     "output_type": "stream",
     "text": [
      "6\n"
     ]
    },
    {
     "name": "stderr",
     "output_type": "stream",
     "text": [
      "/opt/anaconda/anaconda3/lib/python3.5/site-packages/ipykernel/__main__.py:18: SettingWithCopyWarning: \n",
      "A value is trying to be set on a copy of a slice from a DataFrame.\n",
      "Try using .loc[row_indexer,col_indexer] = value instead\n",
      "\n",
      "See the caveats in the documentation: http://pandas.pydata.org/pandas-docs/stable/indexing.html#indexing-view-versus-copy\n",
      "/opt/anaconda/anaconda3/lib/python3.5/site-packages/ipykernel/__main__.py:22: SettingWithCopyWarning: \n",
      "A value is trying to be set on a copy of a slice from a DataFrame.\n",
      "Try using .loc[row_indexer,col_indexer] = value instead\n",
      "\n",
      "See the caveats in the documentation: http://pandas.pydata.org/pandas-docs/stable/indexing.html#indexing-view-versus-copy\n",
      "/opt/anaconda/anaconda3/lib/python3.5/site-packages/ipykernel/__main__.py:31: SettingWithCopyWarning: \n",
      "A value is trying to be set on a copy of a slice from a DataFrame.\n",
      "Try using .loc[row_indexer,col_indexer] = value instead\n",
      "\n",
      "See the caveats in the documentation: http://pandas.pydata.org/pandas-docs/stable/indexing.html#indexing-view-versus-copy\n",
      "/opt/anaconda/anaconda3/lib/python3.5/site-packages/ipykernel/__main__.py:32: SettingWithCopyWarning: \n",
      "A value is trying to be set on a copy of a slice from a DataFrame.\n",
      "Try using .loc[row_indexer,col_indexer] = value instead\n",
      "\n",
      "See the caveats in the documentation: http://pandas.pydata.org/pandas-docs/stable/indexing.html#indexing-view-versus-copy\n",
      "/opt/anaconda/anaconda3/lib/python3.5/site-packages/ipykernel/__main__.py:39: SettingWithCopyWarning: \n",
      "A value is trying to be set on a copy of a slice from a DataFrame.\n",
      "Try using .loc[row_indexer,col_indexer] = value instead\n",
      "\n",
      "See the caveats in the documentation: http://pandas.pydata.org/pandas-docs/stable/indexing.html#indexing-view-versus-copy\n",
      "/opt/anaconda/anaconda3/lib/python3.5/site-packages/ipykernel/__main__.py:40: SettingWithCopyWarning: \n",
      "A value is trying to be set on a copy of a slice from a DataFrame.\n",
      "Try using .loc[row_indexer,col_indexer] = value instead\n",
      "\n",
      "See the caveats in the documentation: http://pandas.pydata.org/pandas-docs/stable/indexing.html#indexing-view-versus-copy\n"
     ]
    },
    {
     "name": "stdout",
     "output_type": "stream",
     "text": [
      "7\n",
      "8\n",
      "9\n",
      "10\n",
      "11\n"
     ]
    }
   ],
   "source": [
    "for i in range(1,12):\n",
    "    if i == 5: continue\n",
    "    print(i)\n",
    "    process_company(\"./PietNikki/Orbis_Export_{}.xlsx\".format(i))\n",
    "    "
   ]
  },
  {
   "cell_type": "code",
   "execution_count": 135,
   "metadata": {
    "scrolled": true
   },
   "outputs": [],
   "source": []
  },
  {
   "cell_type": "code",
   "execution_count": 143,
   "metadata": {},
   "outputs": [],
   "source": []
  },
  {
   "cell_type": "code",
   "execution_count": null,
   "metadata": {},
   "outputs": [],
   "source": [
    "g = Graph()"
   ]
  }
 ],
 "metadata": {
  "anaconda-cloud": {},
  "kernelspec": {
   "display_name": "Python [default]",
   "language": "python",
   "name": "python3"
  },
  "language_info": {
   "codemirror_mode": {
    "name": "ipython",
    "version": 3
   },
   "file_extension": ".py",
   "mimetype": "text/x-python",
   "name": "python",
   "nbconvert_exporter": "python",
   "pygments_lexer": "ipython3",
   "version": "3.5.4"
  }
 },
 "nbformat": 4,
 "nbformat_minor": 1
}
